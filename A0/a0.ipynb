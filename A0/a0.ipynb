{
 "cells": [
  {
   "cell_type": "code",
   "execution_count": 3,
   "metadata": {},
   "outputs": [
    {
     "name": "stdout",
     "output_type": "stream",
     "text": [
      "ACCCTTATTA\n"
     ]
    }
   ],
   "source": [
    "#open text file in read mode\n",
    "text_file = open(\"T.txt\", \"r\")\n",
    " \n",
    "#read whole file to a string\n",
    "text = text_file.read()\n",
    " \n",
    "#close file\n",
    "text_file.close()\n",
    " \n",
    "print(text)"
   ]
  },
  {
   "cell_type": "code",
   "execution_count": 20,
   "metadata": {},
   "outputs": [
    {
     "name": "stdout",
     "output_type": "stream",
     "text": [
      "Matches:  2  Position:  4\n",
      "Matches:  2  Position:  7\n",
      "Matches:  3  Position:  7\n"
     ]
    }
   ],
   "source": [
    "pattern = \"ATT\"\n",
    "alpha = 1\n",
    "\n",
    "text_len = len(text)\n",
    "pattern_len = len(pattern)\n",
    "target = pattern_len - alpha\n",
    "# print(\"Target: \", target)\n",
    "\n",
    "for i in range(text_len - pattern_len):\n",
    "    count = 0\n",
    "    for j in range(pattern_len):\n",
    "        if text[i + j] == pattern[j]:\n",
    "            # print(text[i + j], pattern[j])\n",
    "            count += 1\n",
    "        if count >= target:\n",
    "            print(\"Matches: \", count, \" Position: \", i + 1)\n",
    "            exit\n",
    "\n"
   ]
  }
 ],
 "metadata": {
  "interpreter": {
   "hash": "c730a4a71ddabbd4b6c6e51154f12624a27ef0d36653c184c00e929e9cb97b34"
  },
  "kernelspec": {
   "display_name": "Python 3.8.8 ('base')",
   "language": "python",
   "name": "python3"
  },
  "language_info": {
   "codemirror_mode": {
    "name": "ipython",
    "version": 3
   },
   "file_extension": ".py",
   "mimetype": "text/x-python",
   "name": "python",
   "nbconvert_exporter": "python",
   "pygments_lexer": "ipython3",
   "version": "3.8.8"
  },
  "orig_nbformat": 4
 },
 "nbformat": 4,
 "nbformat_minor": 2
}
